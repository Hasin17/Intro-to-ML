{
  "nbformat": 4,
  "nbformat_minor": 0,
  "metadata": {
    "colab": {
      "provenance": []
    },
    "kernelspec": {
      "name": "python3",
      "display_name": "Python 3"
    },
    "language_info": {
      "name": "python"
    }
  },
  "cells": [
    {
      "cell_type": "code",
      "execution_count": 2,
      "metadata": {
        "id": "eMGtkaZZSdMI"
      },
      "outputs": [],
      "source": [
        "import numpy as np\n",
        "import pandas as pd\n",
        "import matplotlib.pyplot as plt"
      ]
    },
    {
      "cell_type": "code",
      "source": [
        "from google.colab import drive\n",
        "drive.mount('/content/drive')\n",
        "\n",
        "url = '/content/drive/My Drive/Course Fall 24/Intro to ML/Assignment 1/D3.csv'\n",
        "df = pd.read_csv(url)\n",
        "print(df.head())"
      ],
      "metadata": {
        "colab": {
          "base_uri": "https://localhost:8080/"
        },
        "id": "AwdG95oFSjOl",
        "outputId": "609a0816-04db-4d99-cb2d-49eb321bd1cb"
      },
      "execution_count": 3,
      "outputs": [
        {
          "output_type": "stream",
          "name": "stdout",
          "text": [
            "Mounted at /content/drive\n",
            "         X1        X2        X3         Y\n",
            "0  0.000000  3.440000  0.440000  4.387545\n",
            "1  0.040404  0.134949  0.888485  2.679650\n",
            "2  0.080808  0.829899  1.336970  2.968490\n",
            "3  0.121212  1.524848  1.785455  3.254065\n",
            "4  0.161616  2.219798  2.233939  3.536375\n"
          ]
        }
      ]
    },
    {
      "cell_type": "code",
      "source": [
        "X1 = df.values[:, 0]\n",
        "X2 = df.values[:, 1]\n",
        "X3 = df.values[:, 2]\n",
        "y = df.values[:, 3]\n",
        "p = len(y)\n",
        "q = len(X1)\n",
        "r = len(X2)\n",
        "s = len(X3)\n",
        "\n",
        "print('X1 = ', X1[: 5])\n",
        "print('X2 = ', X2[: 5])\n",
        "print('X3 = ', X3[: 5])\n",
        "print('y = ', y[: 5])\n",
        "print('p = ', p)\n",
        "print('q = ', q)\n",
        "print('r = ', r)\n",
        "print('s = ', s)"
      ],
      "metadata": {
        "colab": {
          "base_uri": "https://localhost:8080/"
        },
        "id": "Z4rDP42iTmMo",
        "outputId": "02695c57-8ef2-4ac6-ac38-2b7d4b1e00f7"
      },
      "execution_count": 4,
      "outputs": [
        {
          "output_type": "stream",
          "name": "stdout",
          "text": [
            "X1 =  [0.         0.04040404 0.08080808 0.12121212 0.16161616]\n",
            "X2 =  [3.44       0.1349495  0.82989899 1.52484848 2.21979798]\n",
            "X3 =  [0.44       0.88848485 1.3369697  1.78545454 2.23393939]\n",
            "y =  [4.38754501 2.6796499  2.96848981 3.25406475 3.53637472]\n",
            "p =  100\n",
            "q =  100\n",
            "r =  100\n",
            "s =  100\n"
          ]
        }
      ]
    },
    {
      "cell_type": "code",
      "source": [
        "X_0 = np.ones((q, 1))\n",
        "X_1 = X1.reshape(q, 1)\n",
        "X_2 = X2.reshape(r, 1)\n",
        "X_3 = X3.reshape(s, 1)\n",
        "XX = np.hstack((X_0, X_1, X_2, X_3))\n",
        "w = np.zeros(4)\n",
        "XX"
      ],
      "metadata": {
        "colab": {
          "base_uri": "https://localhost:8080/"
        },
        "id": "d6M_KHCtaXPf",
        "outputId": "8b450967-7a0b-4441-85e4-c46b39a067c4"
      },
      "execution_count": 5,
      "outputs": [
        {
          "output_type": "execute_result",
          "data": {
            "text/plain": [
              "array([[1.        , 0.        , 3.44      , 0.44      ],\n",
              "       [1.        , 0.04040404, 0.1349495 , 0.88848485],\n",
              "       [1.        , 0.08080808, 0.82989899, 1.3369697 ],\n",
              "       [1.        , 0.12121212, 1.52484848, 1.78545454],\n",
              "       [1.        , 0.16161616, 2.21979798, 2.23393939],\n",
              "       [1.        , 0.2020202 , 2.91474747, 2.68242424],\n",
              "       [1.        , 0.24242424, 3.60969697, 3.13090909],\n",
              "       [1.        , 0.28282828, 0.30464646, 3.57939394],\n",
              "       [1.        , 0.32323232, 0.99959596, 0.02787879],\n",
              "       [1.        , 0.36363636, 1.69454546, 0.47636364],\n",
              "       [1.        , 0.4040404 , 2.38949495, 0.92484849],\n",
              "       [1.        , 0.44444444, 3.08444444, 1.37333333],\n",
              "       [1.        , 0.48484848, 3.77939394, 1.82181818],\n",
              "       [1.        , 0.52525252, 0.47434343, 2.27030303],\n",
              "       [1.        , 0.56565657, 1.16929293, 2.71878788],\n",
              "       [1.        , 0.60606061, 1.86424242, 3.16727273],\n",
              "       [1.        , 0.64646465, 2.55919192, 3.61575758],\n",
              "       [1.        , 0.68686869, 3.25414141, 0.06424242],\n",
              "       [1.        , 0.72727273, 3.94909091, 0.51272727],\n",
              "       [1.        , 0.76767677, 0.6440404 , 0.96121212],\n",
              "       [1.        , 0.80808081, 1.3389899 , 1.40969697],\n",
              "       [1.        , 0.84848485, 2.03393939, 1.85818182],\n",
              "       [1.        , 0.88888889, 2.72888889, 2.30666667],\n",
              "       [1.        , 0.92929293, 3.42383838, 2.75515152],\n",
              "       [1.        , 0.96969697, 0.11878788, 3.20363636],\n",
              "       [1.        , 1.01010101, 0.81373737, 3.65212121],\n",
              "       [1.        , 1.05050505, 1.50868687, 0.10060606],\n",
              "       [1.        , 1.09090909, 2.20363636, 0.54909091],\n",
              "       [1.        , 1.13131313, 2.89858586, 0.99757576],\n",
              "       [1.        , 1.17171717, 3.59353535, 1.44606061],\n",
              "       [1.        , 1.21212121, 0.28848485, 1.89454546],\n",
              "       [1.        , 1.25252525, 0.98343434, 2.3430303 ],\n",
              "       [1.        , 1.29292929, 1.67838384, 2.79151515],\n",
              "       [1.        , 1.33333333, 2.37333333, 3.24      ],\n",
              "       [1.        , 1.37373737, 3.06828283, 3.68848485],\n",
              "       [1.        , 1.41414141, 3.76323232, 0.1369697 ],\n",
              "       [1.        , 1.45454546, 0.45818182, 0.58545455],\n",
              "       [1.        , 1.49494949, 1.15313131, 1.03393939],\n",
              "       [1.        , 1.53535354, 1.84808081, 1.48242424],\n",
              "       [1.        , 1.57575758, 2.5430303 , 1.93090909],\n",
              "       [1.        , 1.61616162, 3.2379798 , 2.37939394],\n",
              "       [1.        , 1.65656566, 3.93292929, 2.82787879],\n",
              "       [1.        , 1.6969697 , 0.62787879, 3.27636364],\n",
              "       [1.        , 1.73737374, 1.32282828, 3.72484848],\n",
              "       [1.        , 1.77777778, 2.01777778, 0.17333333],\n",
              "       [1.        , 1.81818182, 2.71272727, 0.62181818],\n",
              "       [1.        , 1.85858586, 3.40767677, 1.07030303],\n",
              "       [1.        , 1.8989899 , 0.10262626, 1.51878788],\n",
              "       [1.        , 1.93939394, 0.79757576, 1.96727273],\n",
              "       [1.        , 1.97979798, 1.49252525, 2.41575758],\n",
              "       [1.        , 2.02020202, 2.18747475, 2.86424242],\n",
              "       [1.        , 2.06060606, 2.88242424, 3.31272727],\n",
              "       [1.        , 2.1010101 , 3.57737374, 3.76121212],\n",
              "       [1.        , 2.14141414, 0.27232323, 0.20969697],\n",
              "       [1.        , 2.18181818, 0.96727273, 0.65818182],\n",
              "       [1.        , 2.22222222, 1.66222222, 1.10666667],\n",
              "       [1.        , 2.26262626, 2.35717172, 1.55515151],\n",
              "       [1.        , 2.3030303 , 3.05212121, 2.00363636],\n",
              "       [1.        , 2.34343434, 3.74707071, 2.45212121],\n",
              "       [1.        , 2.38383838, 0.4420202 , 2.90060606],\n",
              "       [1.        , 2.42424242, 1.1369697 , 3.34909091],\n",
              "       [1.        , 2.46464646, 1.83191919, 3.79757576],\n",
              "       [1.        , 2.5050505 , 2.52686869, 0.24606061],\n",
              "       [1.        , 2.54545455, 3.22181818, 0.69454545],\n",
              "       [1.        , 2.58585859, 3.91676768, 1.1430303 ],\n",
              "       [1.        , 2.62626263, 0.61171717, 1.59151515],\n",
              "       [1.        , 2.66666667, 1.30666667, 2.04      ],\n",
              "       [1.        , 2.70707071, 2.00161616, 2.48848485],\n",
              "       [1.        , 2.74747475, 2.69656566, 2.9369697 ],\n",
              "       [1.        , 2.78787879, 3.39151515, 3.38545454],\n",
              "       [1.        , 2.82828283, 0.08646465, 3.83393939],\n",
              "       [1.        , 2.86868687, 0.78141414, 0.28242424],\n",
              "       [1.        , 2.90909091, 1.47636364, 0.73090909],\n",
              "       [1.        , 2.94949495, 2.17131313, 1.17939394],\n",
              "       [1.        , 2.98989899, 2.86626263, 1.62787879],\n",
              "       [1.        , 3.03030303, 3.56121212, 2.07636364],\n",
              "       [1.        , 3.07070707, 0.25616162, 2.52484849],\n",
              "       [1.        , 3.11111111, 0.95111111, 2.97333333],\n",
              "       [1.        , 3.15151515, 1.64606061, 3.42181818],\n",
              "       [1.        , 3.19191919, 2.3410101 , 3.87030303],\n",
              "       [1.        , 3.23232323, 3.0359596 , 0.31878788],\n",
              "       [1.        , 3.27272727, 3.73090909, 0.76727273],\n",
              "       [1.        , 3.31313131, 0.42585859, 1.21575758],\n",
              "       [1.        , 3.35353535, 1.12080808, 1.66424242],\n",
              "       [1.        , 3.39393939, 1.81575758, 2.11272727],\n",
              "       [1.        , 3.43434343, 2.51070707, 2.56121212],\n",
              "       [1.        , 3.47474748, 3.20565657, 3.00969697],\n",
              "       [1.        , 3.51515151, 3.90060606, 3.45818182],\n",
              "       [1.        , 3.55555556, 0.59555556, 3.90666667],\n",
              "       [1.        , 3.5959596 , 1.29050505, 0.35515151],\n",
              "       [1.        , 3.63636364, 1.98545455, 0.80363636],\n",
              "       [1.        , 3.67676768, 2.68040404, 1.25212121],\n",
              "       [1.        , 3.71717172, 3.37535353, 1.70060606],\n",
              "       [1.        , 3.75757576, 0.07030303, 2.14909091],\n",
              "       [1.        , 3.7979798 , 0.76525252, 2.59757576],\n",
              "       [1.        , 3.83838384, 1.46020202, 3.04606061],\n",
              "       [1.        , 3.87878788, 2.15515152, 3.49454545],\n",
              "       [1.        , 3.91919192, 2.85010101, 3.9430303 ],\n",
              "       [1.        , 3.95959596, 3.5450505 , 0.39151515],\n",
              "       [1.        , 4.        , 0.24      , 0.84      ]])"
            ]
          },
          "metadata": {},
          "execution_count": 5
        }
      ]
    },
    {
      "cell_type": "code",
      "source": [
        "def loss_func(X, y, w, n):\n",
        "\n",
        "    loss = X.dot(w)\n",
        "    diff = np.subtract(loss, y)\n",
        "    sqrDiff = np.square(diff)\n",
        "    L = 1 / (2 * n) * np.sum(sqrDiff)\n",
        "    return L"
      ],
      "metadata": {
        "id": "Vv_6v_kFbu43"
      },
      "execution_count": 6,
      "outputs": []
    },
    {
      "cell_type": "code",
      "source": [
        "loss = loss_func(XX, y, w, q)\n",
        "print('The cost  =', loss)"
      ],
      "metadata": {
        "colab": {
          "base_uri": "https://localhost:8080/"
        },
        "id": "2PgqlOLrcjmE",
        "outputId": "da80fb1c-bbd6-4439-eec4-36471b34a87f"
      },
      "execution_count": 7,
      "outputs": [
        {
          "output_type": "stream",
          "name": "stdout",
          "text": [
            "The cost  = 5.524438459196242\n"
          ]
        }
      ]
    },
    {
      "cell_type": "code",
      "source": [
        "def gradient_descent(X, y, w, alpha, iter):\n",
        "\n",
        "    p = len(y)  # Number of training examples\n",
        "    loss_history = np.zeros(iter)\n",
        "\n",
        "    for i in range(iter):\n",
        "        loss = X.dot(w)\n",
        "        diff = np.subtract(loss, y)\n",
        "        sum_delta = (alpha / p) * X.transpose().dot(diff)\n",
        "        w -= sum_delta\n",
        "        loss_history[i] = loss_func(X, y, w, p)\n",
        "\n",
        "    return w, loss_history"
      ],
      "metadata": {
        "id": "Mqa7YSU9dalM"
      },
      "execution_count": 8,
      "outputs": []
    },
    {
      "cell_type": "code",
      "source": [
        "w0 = [0., 0., 0., 0.]\n",
        "iterations = 1500\n",
        "alpha_1 = 0.01\n",
        "alpha_2 = 0.07\n",
        "w, loss_history = gradient_descent(XX, y, w0, alpha_1, iterations)\n",
        "w1, loss_history1 = gradient_descent(XX, y, w0, alpha_2, iterations)\n",
        "print('Final value of w =', w)\n",
        "print('loss_history =', loss_history)\n",
        "plt.plot(range(1, iterations + 1), loss_history, color='blue')\n",
        "plt.plot(range(1, iterations + 1), loss_history1, color='red')\n",
        "plt.grid(True)"
      ],
      "metadata": {
        "colab": {
          "base_uri": "https://localhost:8080/",
          "height": 465
        },
        "id": "uJVAWZB7eZAb",
        "outputId": "3d4ae60c-87c1-4e0d-ae95-c85cd20019f3"
      },
      "execution_count": 10,
      "outputs": [
        {
          "output_type": "stream",
          "name": "stdout",
          "text": [
            "Final value of w = [ 4.15118728 -1.8394291   0.72473856 -0.09513266]\n",
            "loss_history = [5.21542243 4.97171977 4.7765543  ... 0.81079843 0.81065429 0.81051044]\n"
          ]
        },
        {
          "output_type": "display_data",
          "data": {
            "text/plain": [
              "<Figure size 640x480 with 1 Axes>"
            ],
            "image/png": "[encoded data removed]"
          },
          "metadata": {}
        }
      ]
    },
    {
      "cell_type": "code",
      "source": [
        "X_new=np.array([1, 1, 1, 1])\n",
        "y=X_new.dot(w)\n",
        "y"
      ],
      "metadata": {
        "colab": {
          "base_uri": "https://localhost:8080/"
        },
        "id": "-T5Klwp8vHom",
        "outputId": "59ede1cd-ae14-4dfe-82d7-0d6ce3100516"
      },
      "execution_count": 16,
      "outputs": [
        {
          "output_type": "execute_result",
          "data": {
            "text/plain": [
              "2.9413640816645295"
            ]
          },
          "metadata": {},
          "execution_count": 16
        }
      ]
    },
    {
      "cell_type": "code",
      "source": [
        "X_new=np.array([2, 0, 4, 1])\n",
        "y=X_new.dot(w)\n",
        "y"
      ],
      "metadata": {
        "colab": {
          "base_uri": "https://localhost:8080/"
        },
        "id": "wlbM02zdvTgC",
        "outputId": "f292ea05-331a-458e-d0af-044e5681b469"
      },
      "execution_count": 17,
      "outputs": [
        {
          "output_type": "execute_result",
          "data": {
            "text/plain": [
              "11.10619614470471"
            ]
          },
          "metadata": {},
          "execution_count": 17
        }
      ]
    },
    {
      "cell_type": "code",
      "source": [
        "X_new=np.array([3, 2, 1, 1])\n",
        "y=X_new.dot(w)\n",
        "y"
      ],
      "metadata": {
        "colab": {
          "base_uri": "https://localhost:8080/"
        },
        "id": "i6RVQR_wv9mA",
        "outputId": "dd8eab97-8393-4365-fef0-e9e186db6d63"
      },
      "execution_count": 18,
      "outputs": [
        {
          "output_type": "execute_result",
          "data": {
            "text/plain": [
              "9.404309549010408"
            ]
          },
          "metadata": {},
          "execution_count": 18
        }
      ]
    }
  ]
}